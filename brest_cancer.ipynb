{
  "nbformat": 4,
  "nbformat_minor": 0,
  "metadata": {
    "colab": {
      "name": "brest_cancer.ipynb",
      "provenance": []
    },
    "kernelspec": {
      "display_name": "Python 3",
      "name": "python3"
    },
    "language_info": {
      "name": "python"
    }
  },
  "cells": [
    {
      "cell_type": "code",
      "metadata": {
        "id": "BANyyMTdxj6l"
      },
      "source": [
        "from sklearn.datasets import load_breast_cancer\n",
        "from sklearn.preprocessing import StandardScaler\n",
        "import pandas as pd"
      ],
      "execution_count": null,
      "outputs": []
    },
    {
      "cell_type": "code",
      "metadata": {
        "id": "arPyxYfyyJmH"
      },
      "source": [
        "data_set=load_breast_cancer()\n",
        "#data_set['target'][199]\n",
        "#data_set['data'][199]"
      ],
      "execution_count": null,
      "outputs": []
    },
    {
      "cell_type": "code",
      "metadata": {
        "colab": {
          "base_uri": "https://localhost:8080/"
        },
        "id": "94uALkIZyVAV",
        "outputId": "eef14805-5e9d-4629-9f28-80b20f508f6c"
      },
      "source": [
        "data_set.keys()"
      ],
      "execution_count": null,
      "outputs": [
        {
          "output_type": "execute_result",
          "data": {
            "text/plain": [
              "dict_keys(['data', 'target', 'target_names', 'DESCR', 'feature_names', 'filename'])"
            ]
          },
          "metadata": {},
          "execution_count": 4
        }
      ]
    },
    {
      "cell_type": "code",
      "metadata": {
        "id": "NzVTpHrJ0tTW"
      },
      "source": [
        "fetures=data_set['data']\n",
        "label=data_set['target']\n",
        "fname=data_set['feature_names']"
      ],
      "execution_count": null,
      "outputs": []
    },
    {
      "cell_type": "code",
      "metadata": {
        "id": "TeaL7nDH6mjp"
      },
      "source": [
        "fetures=pd.DataFrame(fetures,columns=[fname])\n",
        "label=pd.DataFrame(label,columns=['label'])"
      ],
      "execution_count": null,
      "outputs": []
    },
    {
      "cell_type": "code",
      "metadata": {
        "id": "mawlVd4zMkES"
      },
      "source": [
        "X_train=fetures[:400]\n",
        "y_train=label[:400]\n",
        "\n",
        "\n",
        "X_valid=fetures[400:500]\n",
        "y_valid=label[400:500]\n",
        "\n",
        "\n",
        "X_test=fetures[500:]\n",
        "y_test=label[500:]"
      ],
      "execution_count": null,
      "outputs": []
    },
    {
      "cell_type": "code",
      "metadata": {
        "id": "sXpb60eS-58z"
      },
      "source": [
        "from keras.models import Sequential\n",
        "from keras.layers import Dense"
      ],
      "execution_count": null,
      "outputs": []
    },
    {
      "cell_type": "code",
      "metadata": {
        "id": "UAHMlb0bAn54"
      },
      "source": [
        "model=Sequential()\n",
        "model.add(Dense(30,activation='relu',input_dim= 30))\n",
        "model.add(Dense(64, activation = 'relu'))\n",
        "model.add(Dense(64, activation = 'relu'))\n",
        "model.add(Dense(128, activation = 'relu'))\n",
        "model.add(Dense(64, activation = 'relu'))\n",
        "model.add(Dense(1, activation = 'sigmoid'))\n",
        "model.compile(loss='binary_crossentropy',optimizer='adam',metrics=['accuracy'])"
      ],
      "execution_count": null,
      "outputs": []
    },
    {
      "cell_type": "code",
      "metadata": {
        "colab": {
          "base_uri": "https://localhost:8080/"
        },
        "id": "I6zoVDd6DQrF",
        "outputId": "07615c18-51d4-45ca-d15d-9179c6df7ce5"
      },
      "source": [
        "model.fit(X_train,y_train,epochs=10,validation_data=(X_valid,y_valid))"
      ],
      "execution_count": null,
      "outputs": [
        {
          "output_type": "stream",
          "name": "stdout",
          "text": [
            "Epoch 1/10\n",
            "13/13 [==============================] - 0s 11ms/step - loss: 0.2105 - accuracy: 0.9150 - val_loss: 0.6438 - val_accuracy: 0.7500\n",
            "Epoch 2/10\n",
            "13/13 [==============================] - 0s 5ms/step - loss: 0.2301 - accuracy: 0.9075 - val_loss: 0.3627 - val_accuracy: 0.8700\n",
            "Epoch 3/10\n",
            "13/13 [==============================] - 0s 6ms/step - loss: 0.2622 - accuracy: 0.8900 - val_loss: 0.1769 - val_accuracy: 0.9500\n",
            "Epoch 4/10\n",
            "13/13 [==============================] - 0s 6ms/step - loss: 0.5194 - accuracy: 0.8400 - val_loss: 0.3565 - val_accuracy: 0.9100\n",
            "Epoch 5/10\n",
            "13/13 [==============================] - 0s 5ms/step - loss: 1.0151 - accuracy: 0.7950 - val_loss: 3.1656 - val_accuracy: 0.3800\n",
            "Epoch 6/10\n",
            "13/13 [==============================] - 0s 6ms/step - loss: 0.8732 - accuracy: 0.8325 - val_loss: 0.2455 - val_accuracy: 0.9500\n",
            "Epoch 7/10\n",
            "13/13 [==============================] - 0s 5ms/step - loss: 0.4395 - accuracy: 0.8650 - val_loss: 0.3123 - val_accuracy: 0.9100\n",
            "Epoch 8/10\n",
            "13/13 [==============================] - 0s 4ms/step - loss: 0.3814 - accuracy: 0.8775 - val_loss: 0.2140 - val_accuracy: 0.9300\n",
            "Epoch 9/10\n",
            "13/13 [==============================] - 0s 6ms/step - loss: 0.2383 - accuracy: 0.9100 - val_loss: 0.2949 - val_accuracy: 0.9300\n",
            "Epoch 10/10\n",
            "13/13 [==============================] - 0s 5ms/step - loss: 0.2097 - accuracy: 0.9125 - val_loss: 0.3366 - val_accuracy: 0.8700\n"
          ]
        },
        {
          "output_type": "execute_result",
          "data": {
            "text/plain": [
              "<keras.callbacks.History at 0x7f65386c4f90>"
            ]
          },
          "metadata": {},
          "execution_count": 25
        }
      ]
    },
    {
      "cell_type": "markdown",
      "metadata": {
        "id": "Wq4jjUxBPBTB"
      },
      "source": [
        ""
      ]
    }
  ]
}